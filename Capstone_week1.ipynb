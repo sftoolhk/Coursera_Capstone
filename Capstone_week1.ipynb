{
    "metadata": {
        "kernelspec": {
            "name": "SQL",
            "display_name": "SQL",
            "language": "sql"
        },
        "language_info": {
            "name": "sql",
            "version": ""
        }
    },
    "nbformat_minor": 2,
    "nbformat": 4,
    "cells": [
        {
            "cell_type": "markdown",
            "source": [
                ""
            ],
            "metadata": {
                "azdata_cell_guid": "3c739ed6-f452-48ce-beb3-e6da68d3d389"
            }
        },
        {
            "cell_type": "code",
            "source": [
                "import pandas as pd\n",
                "import numpy as np\n",
                "print(\"Hello Capstone Project Course!\")"
            ],
            "metadata": {
                "azdata_cell_guid": "dca1caac-10f0-4835-81ce-13d5f07e0a5b"
            },
            "outputs": [
{
    "output_type": "error",
    "evalue": "Msg 156, Level 15, State 1, Line 1\nIncorrect syntax near the keyword 'as'.",
    "ename": "",
    "traceback": []
}, {
    "output_type": "error",
    "evalue": "Msg 128, Level 15, State 1, Line 4\nThe name \"Hello Capstone Project Course!\" is not permitted in this context. Valid expressions are constants, constant expressions, and (in some contexts) variables. Column names are not permitted.",
    "ename": "",
    "traceback": []
}, {
    "output_type": "display_data",
    "data": {
        "text/html": "Total execution time: 00:00:00.123"
    },
    "metadata": {}
}
],
            "execution_count": 1
        }
    ]
}